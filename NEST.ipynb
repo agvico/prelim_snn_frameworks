{
 "cells": [
  {
   "cell_type": "code",
   "execution_count": 1,
   "metadata": {},
   "outputs": [],
   "source": [
    "import numpy as np\n",
    "import tensorflow as tf\n",
    "import pylab\n",
    "import nest\n",
    "from typing import Dict\n",
    "import numpy as np\n",
    "import h5py\n",
    "import time\n",
    "from tqdm.notebook import tnrange\n",
    "\n",
    "def load_weights(path: str) -> Dict[str, np.array]:\n",
    "    # Load the weights of the pre-trained ANN\n",
    "    weights = {}\n",
    "    f = h5py.File(path, 'r')\n",
    "    weights['inpToHidden'] = np.array(f['model_weights']['hidden']['hidden']['kernel:0'])\n",
    "    weights['hiddenToOut'] = np.array(f['model_weights']['output']['output']['kernel:0'])\n",
    "    assert weights['inpToHidden'].shape == (784, 128)\n",
    "    assert weights['hiddenToOut'].shape == (128, 10)\n",
    "    return weights\n",
    "\n",
    "# load mnist data (do not normalize input)\n",
    "(X_train, y_train), (X_test, y_test) = tf.keras.datasets.mnist.load_data()\n",
    "# Flatten the images:\n",
    "X_train = np.reshape(X_train, (X_train.shape[0], -1)).astype('float64')\n",
    "X_test = np.reshape(X_test, (X_test.shape[0], -1)).astype('float64')\n",
    "\n",
    "# Load the weights of the pre-trained ANN:\n",
    "weights = load_weights('model_weights.h5')\n",
    "\n",
    "# Define the SNN parameters:\n",
    "n_input = 784\n",
    "n_hidden = 128\n",
    "n_out = 10\n",
    "presentation_time = 350.0   # Time to present an example to the network"
   ]
  },
  {
   "cell_type": "code",
   "execution_count": 2,
   "metadata": {},
   "outputs": [
    {
     "data": {
      "application/vnd.jupyter.widget-view+json": {
       "model_id": "868c221987e34b07961282e83896af73",
       "version_major": 2,
       "version_minor": 0
      },
      "text/plain": [
       "  0%|          | 0/10000 [00:00<?, ?it/s]"
      ]
     },
     "metadata": {},
     "output_type": "display_data"
    },
    {
     "name": "stdout",
     "output_type": "stream",
     "text": [
      "Exec. time:  28246.112043380737  ms.\n"
     ]
    },
    {
     "data": {
      "text/plain": [
       "0.9748"
      ]
     },
     "execution_count": 2,
     "metadata": {},
     "output_type": "execute_result"
    }
   ],
   "source": [
    "y_preds = np.zeros(X_test.shape[0])\n",
    "t_start = time.time()\n",
    "\n",
    "for i in tnrange(X_test.shape[0]):\n",
    "    nest.ResetKernel()\n",
    "\n",
    "    # LIF neuron custom values\n",
    "    lif_dict = {\n",
    "        \"V_min\": -70.0,\n",
    "        \"V_th\": -65.0\n",
    "    }\n",
    "\n",
    "    # Define the layers\n",
    "    input = nest.Create(\"poisson_generator\", n=n_input, params={\"rate\": X_test[i]})\n",
    "    hidden = nest.Create(\"iaf_psc_alpha\", n=n_hidden , params=lif_dict)\n",
    "    out = nest.Create(\"iaf_psc_alpha\", n=n_out, params=lif_dict)\n",
    "\n",
    "    # Define the connections\n",
    "    nest.Connect(input, hidden, syn_spec={\"weight\": np.transpose(weights['inpToHidden'] * 100)})\n",
    "    nest.Connect(hidden, out, syn_spec={\"weight\": np.transpose(weights['hiddenToOut'] * 100)})\n",
    "\n",
    "    # Define the monitors\n",
    "    out_spike_mon = nest.Create('spike_recorder')\n",
    "    nest.Connect(out, out_spike_mon)\n",
    "    out_idx = np.array([i['global_id'] for i in nest.GetStatus(out)])\n",
    "\n",
    "    # Run the simulation\n",
    "    nest.Simulate(presentation_time)\n",
    "\n",
    "    # see the spikes in the monitor\n",
    "    spike_count = nest.GetStatus(out_spike_mon, \"events\")[0]['senders']\n",
    "\n",
    "    # Count the number of spikes on each output neuron, the maximum number of spikes is the final classification value\n",
    "    spike_counts = [np.count_nonzero(spike_count == i) for i in out_idx]\n",
    "    y_preds[i] = np.argmax(spike_counts)\n",
    "    \n",
    "print(\"Exec. time: \", (time.time() - t_start), \" ms.\")\n",
    "\n",
    "# Accuracy\n",
    "(y_preds == y_test).mean()"
   ]
  }
 ],
 "metadata": {
  "kernelspec": {
   "display_name": "Python 3",
   "language": "python",
   "name": "python3"
  },
  "language_info": {
   "codemirror_mode": {
    "name": "ipython",
    "version": 3
   },
   "file_extension": ".py",
   "mimetype": "text/x-python",
   "name": "python",
   "nbconvert_exporter": "python",
   "pygments_lexer": "ipython3",
   "version": "3.8.5"
  }
 },
 "nbformat": 4,
 "nbformat_minor": 4
}
